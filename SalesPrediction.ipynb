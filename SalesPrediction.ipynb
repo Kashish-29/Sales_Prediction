{
  "nbformat": 4,
  "nbformat_minor": 0,
  "metadata": {
    "colab": {
      "provenance": [],
      "authorship_tag": "ABX9TyNNDnAd6Szc78CspGsQWf6x",
      "include_colab_link": true
    },
    "kernelspec": {
      "name": "python3",
      "display_name": "Python 3"
    },
    "language_info": {
      "name": "python"
    }
  },
  "cells": [
    {
      "cell_type": "markdown",
      "metadata": {
        "id": "view-in-github",
        "colab_type": "text"
      },
      "source": [
        "<a href=\"https://colab.research.google.com/github/Kashish-29/Sales_Prediction/blob/main/SalesPrediction.ipynb\" target=\"_parent\"><img src=\"https://colab.research.google.com/assets/colab-badge.svg\" alt=\"Open In Colab\"/></a>"
      ]
    },
    {
      "cell_type": "code",
      "execution_count": null,
      "metadata": {
        "id": "MlTX431DzWTH"
      },
      "outputs": [],
      "source": [
        "import pandas as pd #useful for loading the data\n",
        "import numpy as np #tp perform array"
      ]
    },
    {
      "cell_type": "code",
      "source": [
        "from google.colab import files\n",
        "uploaded= files.upload()"
      ],
      "metadata": {
        "colab": {
          "base_uri": "https://localhost:8080/",
          "height": 73
        },
        "id": "Hbt2dXYM1_xI",
        "outputId": "bd5ed7db-5372-44ce-c6e3-b65edd01d077"
      },
      "execution_count": null,
      "outputs": [
        {
          "output_type": "display_data",
          "data": {
            "text/plain": [
              "<IPython.core.display.HTML object>"
            ],
            "text/html": [
              "\n",
              "     <input type=\"file\" id=\"files-2db585af-8676-4861-9c50-2a2869dcb678\" name=\"files[]\" multiple disabled\n",
              "        style=\"border:none\" />\n",
              "     <output id=\"result-2db585af-8676-4861-9c50-2a2869dcb678\">\n",
              "      Upload widget is only available when the cell has been executed in the\n",
              "      current browser session. Please rerun this cell to enable.\n",
              "      </output>\n",
              "      <script>// Copyright 2017 Google LLC\n",
              "//\n",
              "// Licensed under the Apache License, Version 2.0 (the \"License\");\n",
              "// you may not use this file except in compliance with the License.\n",
              "// You may obtain a copy of the License at\n",
              "//\n",
              "//      http://www.apache.org/licenses/LICENSE-2.0\n",
              "//\n",
              "// Unless required by applicable law or agreed to in writing, software\n",
              "// distributed under the License is distributed on an \"AS IS\" BASIS,\n",
              "// WITHOUT WARRANTIES OR CONDITIONS OF ANY KIND, either express or implied.\n",
              "// See the License for the specific language governing permissions and\n",
              "// limitations under the License.\n",
              "\n",
              "/**\n",
              " * @fileoverview Helpers for google.colab Python module.\n",
              " */\n",
              "(function(scope) {\n",
              "function span(text, styleAttributes = {}) {\n",
              "  const element = document.createElement('span');\n",
              "  element.textContent = text;\n",
              "  for (const key of Object.keys(styleAttributes)) {\n",
              "    element.style[key] = styleAttributes[key];\n",
              "  }\n",
              "  return element;\n",
              "}\n",
              "\n",
              "// Max number of bytes which will be uploaded at a time.\n",
              "const MAX_PAYLOAD_SIZE = 100 * 1024;\n",
              "\n",
              "function _uploadFiles(inputId, outputId) {\n",
              "  const steps = uploadFilesStep(inputId, outputId);\n",
              "  const outputElement = document.getElementById(outputId);\n",
              "  // Cache steps on the outputElement to make it available for the next call\n",
              "  // to uploadFilesContinue from Python.\n",
              "  outputElement.steps = steps;\n",
              "\n",
              "  return _uploadFilesContinue(outputId);\n",
              "}\n",
              "\n",
              "// This is roughly an async generator (not supported in the browser yet),\n",
              "// where there are multiple asynchronous steps and the Python side is going\n",
              "// to poll for completion of each step.\n",
              "// This uses a Promise to block the python side on completion of each step,\n",
              "// then passes the result of the previous step as the input to the next step.\n",
              "function _uploadFilesContinue(outputId) {\n",
              "  const outputElement = document.getElementById(outputId);\n",
              "  const steps = outputElement.steps;\n",
              "\n",
              "  const next = steps.next(outputElement.lastPromiseValue);\n",
              "  return Promise.resolve(next.value.promise).then((value) => {\n",
              "    // Cache the last promise value to make it available to the next\n",
              "    // step of the generator.\n",
              "    outputElement.lastPromiseValue = value;\n",
              "    return next.value.response;\n",
              "  });\n",
              "}\n",
              "\n",
              "/**\n",
              " * Generator function which is called between each async step of the upload\n",
              " * process.\n",
              " * @param {string} inputId Element ID of the input file picker element.\n",
              " * @param {string} outputId Element ID of the output display.\n",
              " * @return {!Iterable<!Object>} Iterable of next steps.\n",
              " */\n",
              "function* uploadFilesStep(inputId, outputId) {\n",
              "  const inputElement = document.getElementById(inputId);\n",
              "  inputElement.disabled = false;\n",
              "\n",
              "  const outputElement = document.getElementById(outputId);\n",
              "  outputElement.innerHTML = '';\n",
              "\n",
              "  const pickedPromise = new Promise((resolve) => {\n",
              "    inputElement.addEventListener('change', (e) => {\n",
              "      resolve(e.target.files);\n",
              "    });\n",
              "  });\n",
              "\n",
              "  const cancel = document.createElement('button');\n",
              "  inputElement.parentElement.appendChild(cancel);\n",
              "  cancel.textContent = 'Cancel upload';\n",
              "  const cancelPromise = new Promise((resolve) => {\n",
              "    cancel.onclick = () => {\n",
              "      resolve(null);\n",
              "    };\n",
              "  });\n",
              "\n",
              "  // Wait for the user to pick the files.\n",
              "  const files = yield {\n",
              "    promise: Promise.race([pickedPromise, cancelPromise]),\n",
              "    response: {\n",
              "      action: 'starting',\n",
              "    }\n",
              "  };\n",
              "\n",
              "  cancel.remove();\n",
              "\n",
              "  // Disable the input element since further picks are not allowed.\n",
              "  inputElement.disabled = true;\n",
              "\n",
              "  if (!files) {\n",
              "    return {\n",
              "      response: {\n",
              "        action: 'complete',\n",
              "      }\n",
              "    };\n",
              "  }\n",
              "\n",
              "  for (const file of files) {\n",
              "    const li = document.createElement('li');\n",
              "    li.append(span(file.name, {fontWeight: 'bold'}));\n",
              "    li.append(span(\n",
              "        `(${file.type || 'n/a'}) - ${file.size} bytes, ` +\n",
              "        `last modified: ${\n",
              "            file.lastModifiedDate ? file.lastModifiedDate.toLocaleDateString() :\n",
              "                                    'n/a'} - `));\n",
              "    const percent = span('0% done');\n",
              "    li.appendChild(percent);\n",
              "\n",
              "    outputElement.appendChild(li);\n",
              "\n",
              "    const fileDataPromise = new Promise((resolve) => {\n",
              "      const reader = new FileReader();\n",
              "      reader.onload = (e) => {\n",
              "        resolve(e.target.result);\n",
              "      };\n",
              "      reader.readAsArrayBuffer(file);\n",
              "    });\n",
              "    // Wait for the data to be ready.\n",
              "    let fileData = yield {\n",
              "      promise: fileDataPromise,\n",
              "      response: {\n",
              "        action: 'continue',\n",
              "      }\n",
              "    };\n",
              "\n",
              "    // Use a chunked sending to avoid message size limits. See b/62115660.\n",
              "    let position = 0;\n",
              "    do {\n",
              "      const length = Math.min(fileData.byteLength - position, MAX_PAYLOAD_SIZE);\n",
              "      const chunk = new Uint8Array(fileData, position, length);\n",
              "      position += length;\n",
              "\n",
              "      const base64 = btoa(String.fromCharCode.apply(null, chunk));\n",
              "      yield {\n",
              "        response: {\n",
              "          action: 'append',\n",
              "          file: file.name,\n",
              "          data: base64,\n",
              "        },\n",
              "      };\n",
              "\n",
              "      let percentDone = fileData.byteLength === 0 ?\n",
              "          100 :\n",
              "          Math.round((position / fileData.byteLength) * 100);\n",
              "      percent.textContent = `${percentDone}% done`;\n",
              "\n",
              "    } while (position < fileData.byteLength);\n",
              "  }\n",
              "\n",
              "  // All done.\n",
              "  yield {\n",
              "    response: {\n",
              "      action: 'complete',\n",
              "    }\n",
              "  };\n",
              "}\n",
              "\n",
              "scope.google = scope.google || {};\n",
              "scope.google.colab = scope.google.colab || {};\n",
              "scope.google.colab._files = {\n",
              "  _uploadFiles,\n",
              "  _uploadFilesContinue,\n",
              "};\n",
              "})(self);\n",
              "</script> "
            ]
          },
          "metadata": {}
        },
        {
          "output_type": "stream",
          "name": "stdout",
          "text": [
            "Saving train.csv to train.csv\n"
          ]
        }
      ]
    },
    {
      "cell_type": "markdown",
      "source": [
        "Loading dataset"
      ],
      "metadata": {
        "id": "mxEIWavn3DHf"
      }
    },
    {
      "cell_type": "code",
      "source": [
        "dataset =pd.read_csv('train.csv')\n",
        "print(dataset)"
      ],
      "metadata": {
        "colab": {
          "base_uri": "https://localhost:8080/"
        },
        "id": "9j0Lgx-f2uBz",
        "outputId": "962aa63f-203d-422b-be9f-a6a6310cdd65"
      },
      "execution_count": null,
      "outputs": [
        {
          "output_type": "stream",
          "name": "stdout",
          "text": [
            "     Dependents  ApplicantIncome Loan_Status\n",
            "0             0             5849           Y\n",
            "1             1             4583           N\n",
            "2             0             3000           Y\n",
            "3             0             2583           Y\n",
            "4             0             6000           Y\n",
            "..          ...              ...         ...\n",
            "593           0             2900           Y\n",
            "594           3             4106           Y\n",
            "595           1             8072           Y\n",
            "596           2             7583           Y\n",
            "597           0             4583           N\n",
            "\n",
            "[598 rows x 3 columns]\n"
          ]
        }
      ]
    },
    {
      "cell_type": "markdown",
      "source": [
        "Summarization"
      ],
      "metadata": {
        "id": "PctI95eM4dVG"
      }
    },
    {
      "cell_type": "code",
      "source": [
        "print(dataset.shape)\n",
        "print(dataset.head())"
      ],
      "metadata": {
        "colab": {
          "base_uri": "https://localhost:8080/"
        },
        "id": "8bweDABO4Wes",
        "outputId": "a291a5fc-3d11-412c-eb63-3230a33a36b4"
      },
      "execution_count": null,
      "outputs": [
        {
          "output_type": "stream",
          "name": "stdout",
          "text": [
            "(598, 3)\n",
            "   Dependents  ApplicantIncome Loan_Status\n",
            "0           0             5849           Y\n",
            "1           1             4583           N\n",
            "2           0             3000           Y\n",
            "3           0             2583           Y\n",
            "4           0             6000           Y\n"
          ]
        }
      ]
    },
    {
      "cell_type": "code",
      "source": [
        "X= dataset.iloc[: , :-1].values\n",
        "X"
      ],
      "metadata": {
        "colab": {
          "base_uri": "https://localhost:8080/"
        },
        "id": "delsUWV95Gfk",
        "outputId": "354dd986-2f35-487f-a9c5-73ab39fe4511"
      },
      "execution_count": null,
      "outputs": [
        {
          "output_type": "execute_result",
          "data": {
            "text/plain": [
              "array([[   0, 5849],\n",
              "       [   1, 4583],\n",
              "       [   0, 3000],\n",
              "       ...,\n",
              "       [   1, 8072],\n",
              "       [   2, 7583],\n",
              "       [   0, 4583]])"
            ]
          },
          "metadata": {},
          "execution_count": 5
        }
      ]
    },
    {
      "cell_type": "code",
      "source": [
        "Y= dataset.iloc[: , -1].values\n",
        "Y"
      ],
      "metadata": {
        "colab": {
          "base_uri": "https://localhost:8080/"
        },
        "id": "LcK8Rkmf5Vlw",
        "outputId": "75c1e22b-3ec1-4a66-e2ca-91919b25b6f9"
      },
      "execution_count": null,
      "outputs": [
        {
          "output_type": "execute_result",
          "data": {
            "text/plain": [
              "array(['Y', 'N', 'Y', 'Y', 'Y', 'Y', 'Y', 'N', 'Y', 'N', 'Y', 'Y', 'Y',\n",
              "       'N', 'Y', 'Y', 'Y', 'N', 'N', 'Y', 'N', 'Y', 'N', 'N', 'N', 'Y',\n",
              "       'Y', 'Y', 'N', 'Y', 'N', 'N', 'N', 'Y', 'N', 'Y', 'N', 'Y', 'Y',\n",
              "       'Y', 'N', 'Y', 'Y', 'Y', 'Y', 'Y', 'Y', 'Y', 'N', 'Y', 'Y', 'Y',\n",
              "       'N', 'N', 'N', 'Y', 'Y', 'N', 'Y', 'Y', 'Y', 'Y', 'N', 'N', 'N',\n",
              "       'N', 'N', 'Y', 'Y', 'N', 'Y', 'Y', 'Y', 'N', 'Y', 'N', 'N', 'N',\n",
              "       'N', 'Y', 'Y', 'Y', 'N', 'N', 'Y', 'Y', 'Y', 'Y', 'Y', 'Y', 'Y',\n",
              "       'Y', 'Y', 'Y', 'Y', 'N', 'Y', 'Y', 'Y', 'Y', 'Y', 'Y', 'Y', 'Y',\n",
              "       'N', 'N', 'Y', 'Y', 'Y', 'N', 'Y', 'Y', 'Y', 'Y', 'Y', 'N', 'Y',\n",
              "       'Y', 'Y', 'Y', 'Y', 'Y', 'Y', 'Y', 'N', 'N', 'Y', 'Y', 'Y', 'Y',\n",
              "       'Y', 'N', 'N', 'Y', 'N', 'N', 'N', 'Y', 'Y', 'Y', 'Y', 'Y', 'Y',\n",
              "       'Y', 'N', 'Y', 'N', 'Y', 'N', 'N', 'Y', 'Y', 'Y', 'Y', 'Y', 'Y',\n",
              "       'Y', 'N', 'N', 'Y', 'Y', 'Y', 'N', 'Y', 'N', 'Y', 'Y', 'Y', 'N',\n",
              "       'Y', 'N', 'Y', 'Y', 'N', 'Y', 'N', 'N', 'N', 'Y', 'N', 'Y', 'Y',\n",
              "       'N', 'Y', 'Y', 'Y', 'Y', 'N', 'N', 'Y', 'Y', 'N', 'Y', 'Y', 'Y',\n",
              "       'N', 'Y', 'Y', 'N', 'Y', 'Y', 'Y', 'Y', 'Y', 'Y', 'N', 'N', 'N',\n",
              "       'Y', 'Y', 'Y', 'Y', 'N', 'Y', 'N', 'Y', 'N', 'Y', 'Y', 'Y', 'Y',\n",
              "       'N', 'Y', 'Y', 'Y', 'Y', 'Y', 'Y', 'Y', 'Y', 'N', 'Y', 'Y', 'Y',\n",
              "       'Y', 'N', 'Y', 'Y', 'Y', 'N', 'Y', 'Y', 'Y', 'Y', 'N', 'N', 'Y',\n",
              "       'Y', 'N', 'Y', 'N', 'N', 'N', 'N', 'Y', 'Y', 'N', 'Y', 'Y', 'Y',\n",
              "       'Y', 'Y', 'N', 'Y', 'Y', 'Y', 'Y', 'Y', 'Y', 'Y', 'Y', 'Y', 'Y',\n",
              "       'Y', 'N', 'Y', 'Y', 'Y', 'N', 'Y', 'N', 'Y', 'Y', 'Y', 'Y', 'N',\n",
              "       'Y', 'Y', 'Y', 'Y', 'Y', 'N', 'N', 'N', 'Y', 'Y', 'Y', 'N', 'Y',\n",
              "       'N', 'N', 'Y', 'Y', 'Y', 'Y', 'Y', 'N', 'Y', 'Y', 'Y', 'Y', 'N',\n",
              "       'Y', 'Y', 'Y', 'Y', 'Y', 'N', 'Y', 'Y', 'N', 'Y', 'Y', 'Y', 'Y',\n",
              "       'Y', 'Y', 'Y', 'N', 'Y', 'N', 'N', 'Y', 'Y', 'Y', 'Y', 'Y', 'Y',\n",
              "       'Y', 'Y', 'N', 'Y', 'N', 'Y', 'Y', 'N', 'N', 'Y', 'N', 'Y', 'Y',\n",
              "       'Y', 'Y', 'N', 'N', 'N', 'Y', 'N', 'Y', 'Y', 'Y', 'N', 'Y', 'Y',\n",
              "       'Y', 'Y', 'N', 'Y', 'Y', 'Y', 'Y', 'Y', 'N', 'Y', 'Y', 'N', 'Y',\n",
              "       'Y', 'Y', 'Y', 'Y', 'Y', 'Y', 'Y', 'N', 'Y', 'Y', 'N', 'N', 'N',\n",
              "       'Y', 'Y', 'N', 'Y', 'Y', 'Y', 'N', 'N', 'N', 'Y', 'N', 'Y', 'N',\n",
              "       'Y', 'N', 'N', 'Y', 'Y', 'Y', 'N', 'Y', 'N', 'Y', 'Y', 'N', 'Y',\n",
              "       'Y', 'Y', 'Y', 'N', 'Y', 'Y', 'Y', 'Y', 'Y', 'N', 'Y', 'Y', 'Y',\n",
              "       'Y', 'Y', 'Y', 'Y', 'Y', 'N', 'N', 'N', 'N', 'Y', 'N', 'Y', 'Y',\n",
              "       'Y', 'Y', 'N', 'Y', 'N', 'Y', 'Y', 'Y', 'Y', 'N', 'Y', 'N', 'Y',\n",
              "       'Y', 'N', 'Y', 'N', 'Y', 'Y', 'Y', 'Y', 'Y', 'N', 'Y', 'N', 'Y',\n",
              "       'Y', 'Y', 'Y', 'Y', 'Y', 'N', 'N', 'Y', 'N', 'Y', 'Y', 'Y', 'Y',\n",
              "       'N', 'Y', 'Y', 'Y', 'Y', 'N', 'Y', 'Y', 'Y', 'N', 'Y', 'Y', 'Y',\n",
              "       'N', 'Y', 'Y', 'N', 'Y', 'Y', 'N', 'N', 'Y', 'Y', 'N', 'N', 'Y',\n",
              "       'Y', 'Y', 'Y', 'N', 'Y', 'Y', 'Y', 'Y', 'Y', 'Y', 'Y', 'N', 'N',\n",
              "       'Y', 'Y', 'Y', 'Y', 'N', 'Y', 'Y', 'N', 'Y', 'Y', 'Y', 'Y', 'N',\n",
              "       'Y', 'N', 'Y', 'N', 'Y', 'Y', 'N', 'N', 'Y', 'Y', 'Y', 'Y', 'Y',\n",
              "       'Y', 'Y', 'Y', 'Y', 'N', 'Y', 'Y', 'N', 'N', 'N', 'Y', 'Y', 'N',\n",
              "       'N', 'Y', 'N', 'Y', 'Y', 'Y', 'Y', 'N', 'Y', 'N', 'N', 'N', 'Y',\n",
              "       'Y', 'Y', 'N', 'Y', 'N', 'Y', 'Y', 'Y', 'Y', 'N', 'Y', 'Y', 'N',\n",
              "       'Y', 'Y', 'Y', 'Y', 'N', 'Y', 'Y', 'Y', 'Y', 'Y', 'Y', 'Y', 'N'],\n",
              "      dtype=object)"
            ]
          },
          "metadata": {},
          "execution_count": 6
        }
      ]
    },
    {
      "cell_type": "markdown",
      "source": [
        "Splitiing the dataset into train and test"
      ],
      "metadata": {
        "id": "UeCYgmXS8FXl"
      }
    },
    {
      "cell_type": "code",
      "source": [
        "from sklearn.model_selection import train_test_split\n",
        "X_train, X_test , y_train, y_test= train_test_split(X, Y, test_size=0.3,random_state=0)"
      ],
      "metadata": {
        "id": "We9jCwLx7jHI"
      },
      "execution_count": null,
      "outputs": []
    },
    {
      "cell_type": "markdown",
      "source": [
        "Feature Scaling"
      ],
      "metadata": {
        "id": "bT-m0-NY9CYo"
      }
    },
    {
      "cell_type": "code",
      "source": [
        "from sklearn.preprocessing import StandardScaler\n",
        "sc = StandardScaler()\n",
        "X_train = sc.fit_transform(X_train)\n",
        "X_test= sc.transform(X_test)\n",
        "#X_train.dropna()\n",
        "print(X_train)"
      ],
      "metadata": {
        "colab": {
          "base_uri": "https://localhost:8080/"
        },
        "id": "rp4_8_-Y8RaI",
        "outputId": "f6e4bd9e-ea34-4713-b339-cabeac7a28fe"
      },
      "execution_count": null,
      "outputs": [
        {
          "output_type": "stream",
          "name": "stdout",
          "text": [
            "[[ 1.18213939e+00 -6.58542676e-01]\n",
            " [-7.67108202e-01  1.23068622e-01]\n",
            " [ 2.15676318e+00 -3.81945472e-01]\n",
            " [ 2.07515593e-01 -5.01868735e-01]\n",
            " [-7.67108202e-01 -5.17870226e-01]\n",
            " [ 2.07515593e-01  4.79497441e-01]\n",
            " [ 2.15676318e+00 -1.12206050e-01]\n",
            " [ 1.18213939e+00  1.12746991e+00]\n",
            " [ 2.07515593e-01  2.16086176e-02]\n",
            " [-7.67108202e-01 -3.24973130e-01]\n",
            " [-7.67108202e-01 -3.84583080e-01]\n",
            " [-7.67108202e-01 -3.83000515e-01]\n",
            " [-7.67108202e-01 -8.05547489e-02]\n",
            " [-7.67108202e-01 -2.80485468e-01]\n",
            " [-7.67108202e-01 -5.50752411e-01]\n",
            " [ 1.18213939e+00 -2.54109383e-01]\n",
            " [-7.67108202e-01 -1.34010280e-01]\n",
            " [-7.67108202e-01 -3.38864534e-01]\n",
            " [-7.67108202e-01  1.20958535e-01]\n",
            " [ 2.15676318e+00 -2.17886228e-01]\n",
            " [ 2.15676318e+00 -4.74437607e-01]\n",
            " [-7.67108202e-01  2.69420932e+00]\n",
            " [ 1.18213939e+00 -2.07159953e-01]\n",
            " [-7.67108202e-01  8.31528142e-02]\n",
            " [-7.67108202e-01 -4.65293898e-01]\n",
            " [ 1.18213939e+00 -4.85691403e-01]\n",
            " [-7.67108202e-01 -7.59650999e-01]\n",
            " [ 2.07515593e-01 -4.82702114e-01]\n",
            " [-7.67108202e-01 -5.29651544e-01]\n",
            " [ 2.07515593e-01  1.62439534e+00]\n",
            " [ 2.15676318e+00 -3.95661036e-01]\n",
            " [ 2.15676318e+00  3.08580414e-01]\n",
            " [ 1.18213939e+00  8.06889430e-03]\n",
            " [-7.67108202e-01 -4.12365889e-01]\n",
            " [-7.67108202e-01  6.69754825e-02]\n",
            " [-7.67108202e-01 -3.07213233e-01]\n",
            " [-7.67108202e-01  2.60611320e+00]\n",
            " [-7.67108202e-01 -8.26470412e-01]\n",
            " [-7.67108202e-01 -4.09728281e-01]\n",
            " [-7.67108202e-01  3.68542046e-01]\n",
            " [-7.67108202e-01 -5.21738718e-01]\n",
            " [ 2.15676318e+00  1.69772085e+00]\n",
            " [-7.67108202e-01 -5.17870226e-01]\n",
            " [ 2.07515593e-01 -2.58505397e-01]\n",
            " [-7.67108202e-01  8.26252925e-02]\n",
            " [-7.67108202e-01 -4.13245092e-01]\n",
            " [-7.67108202e-01  1.26407489e-02]\n",
            " [-7.67108202e-01 -1.77970420e-01]\n",
            " [ 2.15676318e+00 -4.06035629e-01]\n",
            " [ 1.18213939e+00 -4.34697640e-01]\n",
            " [ 2.07515593e-01  5.01161208e+00]\n",
            " [-7.67108202e-01 -3.72098400e-01]\n",
            " [-7.67108202e-01 -5.13825893e-01]\n",
            " [-7.67108202e-01  8.12011943e-01]\n",
            " [-7.67108202e-01  5.25567668e-01]\n",
            " [ 2.07515593e-01  1.72303979e-01]\n",
            " [-7.67108202e-01 -1.34010280e-01]\n",
            " [ 2.07515593e-01 -3.39040375e-01]\n",
            " [-7.67108202e-01  7.00353186e-01]\n",
            " [-7.67108202e-01 -8.82917336e-02]\n",
            " [-7.67108202e-01 -5.92250784e-01]\n",
            " [-7.67108202e-01  4.07051129e-01]\n",
            " [ 2.07515593e-01  7.37279704e-01]\n",
            " [ 2.07515593e-01  1.08227889e+00]\n",
            " [ 2.07515593e-01 -2.07335794e-01]\n",
            " [-7.67108202e-01 -4.06563150e-01]\n",
            " [-7.67108202e-01 -2.36525327e-01]\n",
            " [-7.67108202e-01 -4.18520309e-01]\n",
            " [ 1.18213939e+00 -1.85883245e-01]\n",
            " [ 2.07515593e-01 -2.27733299e-01]\n",
            " [-7.67108202e-01 -5.17870226e-01]\n",
            " [ 2.07515593e-01 -3.42029664e-01]\n",
            " [ 1.18213939e+00 -4.21685439e-01]\n",
            " [-7.67108202e-01  3.15965718e-01]\n",
            " [-7.67108202e-01 -5.64995497e-01]\n",
            " [-7.67108202e-01  8.18518044e-01]\n",
            " [-7.67108202e-01 -5.00286170e-01]\n",
            " [ 2.15676318e+00 -3.42029664e-01]\n",
            " [-7.67108202e-01 -4.29949945e-01]\n",
            " [-7.67108202e-01 -1.04644906e-01]\n",
            " [ 2.07515593e-01  4.29382880e-01]\n",
            " [ 1.18213939e+00  4.08282013e-01]\n",
            " [-7.67108202e-01  7.32004487e-01]\n",
            " [ 2.15676318e+00  8.16214743e+00]\n",
            " [-7.67108202e-01 -2.07335794e-01]\n",
            " [-7.67108202e-01 -4.10079962e-01]\n",
            " [ 1.18213939e+00  5.25391827e-01]\n",
            " [ 2.07515593e-01 -1.05702053e-02]\n",
            " [-7.67108202e-01 -5.11012444e-01]\n",
            " [ 2.07515593e-01  9.08724252e-01]\n",
            " [-7.67108202e-01 -4.15882700e-01]\n",
            " [ 1.18213939e+00 -3.49590808e-01]\n",
            " [-7.67108202e-01 -3.83176356e-01]\n",
            " [ 2.07515593e-01 -6.26539693e-01]\n",
            " [ 2.07515593e-01 -3.96716079e-01]\n",
            " [-7.67108202e-01 -3.97243601e-01]\n",
            " [-7.67108202e-01 -2.08390837e-01]\n",
            " [-7.67108202e-01 -1.82014753e-01]\n",
            " [-7.67108202e-01  3.92632203e-01]\n",
            " [ 2.15676318e+00 -1.39111759e-02]\n",
            " [-7.67108202e-01  1.15155796e-01]\n",
            " [ 2.07515593e-01  1.99084707e+00]\n",
            " [-7.67108202e-01  7.99876841e-02]\n",
            " [-7.67108202e-01 -5.50752411e-01]\n",
            " [-7.67108202e-01 -4.00232890e-01]\n",
            " [ 1.18213939e+00  1.26407489e-02]\n",
            " [-7.67108202e-01 -5.30179065e-01]\n",
            " [-7.67108202e-01 -1.74981131e-01]\n",
            " [ 1.18213939e+00 -2.01357215e-01]\n",
            " [ 1.18213939e+00 -5.33871717e-01]\n",
            " [ 2.07515593e-01 -3.53810982e-01]\n",
            " [-7.67108202e-01 -4.82702114e-01]\n",
            " [ 1.18213939e+00 -5.35278442e-01]\n",
            " [-7.67108202e-01 -3.99177847e-01]\n",
            " [-7.67108202e-01  9.64993232e-01]\n",
            " [-7.67108202e-01 -4.12365889e-01]\n",
            " [-7.67108202e-01 -2.88574134e-01]\n",
            " [-7.67108202e-01  1.59115937e-01]\n",
            " [-7.67108202e-01 -1.04644906e-01]\n",
            " [-7.67108202e-01 -1.83773159e-01]\n",
            " [ 2.07515593e-01 -5.18749429e-01]\n",
            " [ 1.18213939e+00 -5.95591754e-01]\n",
            " [-7.67108202e-01 -5.05033865e-01]\n",
            " [ 1.18213939e+00  7.64708728e-02]\n",
            " [ 2.15676318e+00  7.05452562e-01]\n",
            " [-7.67108202e-01  6.99473983e-01]\n",
            " [ 2.15676318e+00  6.29311496e-02]\n",
            " [-7.67108202e-01 -3.40974621e-01]\n",
            " [ 2.07515593e-01  7.89152670e-01]\n",
            " [ 2.07515593e-01 -4.01463774e-01]\n",
            " [-7.67108202e-01 -5.58841077e-01]\n",
            " [-7.67108202e-01  9.94358606e-01]\n",
            " [ 2.07515593e-01 -3.90385819e-01]\n",
            " [-7.67108202e-01  8.90260993e-01]\n",
            " [-7.67108202e-01  2.03076077e-01]\n",
            " [ 2.07515593e-01  1.17019917e+00]\n",
            " [-7.67108202e-01 -5.46532238e-01]\n",
            " [ 2.15676318e+00 -5.75721771e-01]\n",
            " [ 2.07515593e-01 -4.73382564e-01]\n",
            " [ 2.07515593e-01 -7.03559963e-02]\n",
            " [ 1.18213939e+00 -2.71693440e-01]\n",
            " [-7.67108202e-01  1.83118384e+00]\n",
            " [-7.67108202e-01 -6.17044303e-01]\n",
            " [-7.67108202e-01 -5.63940453e-01]\n",
            " [-7.67108202e-01 -1.40340540e-01]\n",
            " [-7.67108202e-01 -2.13138532e-01]\n",
            " [-7.67108202e-01 -2.53757702e-01]\n",
            " [-7.67108202e-01 -5.73611684e-01]\n",
            " [-7.67108202e-01 -4.61601246e-01]\n",
            " [ 2.07515593e-01 -3.30424187e-01]\n",
            " [ 2.15676318e+00 -2.37932052e-01]\n",
            " [-7.67108202e-01 -8.53024440e-02]\n",
            " [-7.67108202e-01 -3.67702386e-01]\n",
            " [-7.67108202e-01 -2.80837149e-01]\n",
            " [ 2.07515593e-01  2.48618993e+00]\n",
            " [-7.67108202e-01  1.32036490e-01]\n",
            " [ 2.07515593e-01 -1.69002551e-01]\n",
            " [ 2.15676318e+00 -7.28177641e-02]\n",
            " [ 1.18213939e+00  1.15155796e-01]\n",
            " [-7.67108202e-01 -1.83773159e-01]\n",
            " [-7.67108202e-01 -4.12365889e-01]\n",
            " [-7.67108202e-01  5.98717341e-01]\n",
            " [-7.67108202e-01 -3.68405749e-01]\n",
            " [ 1.18213939e+00 -3.84407240e-01]\n",
            " [-7.67108202e-01  1.63863632e-01]\n",
            " [ 2.07515593e-01  2.69016288e-01]\n",
            " [ 2.07515593e-01  2.22066858e-01]\n",
            " [-7.67108202e-01 -5.94712552e-01]\n",
            " [-7.67108202e-01 -2.69231672e-01]\n",
            " [ 2.07515593e-01 -5.50576571e-01]\n",
            " [-7.67108202e-01  2.52944671e+00]\n",
            " [ 1.18213939e+00 -2.38811255e-01]\n",
            " [ 2.15676318e+00 -4.21685439e-01]\n",
            " [ 2.07515593e-01  1.85492021e-01]\n",
            " [-7.67108202e-01 -4.09376599e-01]\n",
            " [ 2.15676318e+00 -3.20577116e-01]\n",
            " [ 2.15676318e+00 -3.13193916e-02]\n",
            " [ 2.07515593e-01 -1.29965947e-01]\n",
            " [-7.67108202e-01 -7.59650999e-01]\n",
            " [-7.67108202e-01  8.91667717e-01]\n",
            " [-7.67108202e-01  1.67661999e+00]\n",
            " [ 1.18213939e+00 -5.32994618e-02]\n",
            " [-7.67108202e-01 -1.16426223e-01]\n",
            " [ 2.07515593e-01  1.29750563e-01]\n",
            " [-7.67108202e-01  2.52838956e-01]\n",
            " [ 2.15676318e+00 -8.66737901e-01]\n",
            " [-7.67108202e-01 -4.53160899e-01]\n",
            " [ 2.15676318e+00  1.88481311e-01]\n",
            " [-7.67108202e-01 -5.77656017e-01]\n",
            " [ 2.07515593e-01 -2.69583353e-01]\n",
            " [ 1.18213939e+00 -3.56800271e-01]\n",
            " [-7.67108202e-01 -3.24445608e-01]\n",
            " [-7.67108202e-01  5.66362678e-01]\n",
            " [ 2.07515593e-01 -1.19415513e-01]\n",
            " [-7.67108202e-01 -1.14316137e-01]\n",
            " [-7.67108202e-01  1.53137358e-01]\n",
            " [ 2.15676318e+00 -4.71096637e-01]\n",
            " [ 2.15676318e+00 -4.07266513e-01]\n",
            " [ 2.07515593e-01 -3.24445608e-01]\n",
            " [ 1.18213939e+00 -2.93673510e-01]\n",
            " [ 1.18213939e+00 -4.60546203e-01]\n",
            " [-7.67108202e-01 -2.45669036e-01]\n",
            " [-7.67108202e-01 -4.62128768e-01]\n",
            " [ 2.15676318e+00  5.98717341e-01]\n",
            " [-7.67108202e-01 -4.17465265e-01]\n",
            " [-7.67108202e-01 -4.26960656e-01]\n",
            " [-7.67108202e-01 -5.88206451e-01]\n",
            " [ 2.15676318e+00 -1.03765703e-01]\n",
            " [ 2.07515593e-01 -6.54146662e-01]\n",
            " [-7.67108202e-01 -5.39850296e-01]\n",
            " [ 2.07515593e-01  5.76561431e-01]\n",
            " [ 1.18213939e+00 -2.80485468e-01]\n",
            " [ 2.15676318e+00 -1.87114129e-01]\n",
            " [ 2.07515593e-01  1.26585433e-01]\n",
            " [-7.67108202e-01 -3.42029664e-01]\n",
            " [-7.67108202e-01 -5.78007698e-01]\n",
            " [ 2.07515593e-01 -1.86762448e-01]\n",
            " [ 1.18213939e+00 -2.34942762e-01]\n",
            " [ 1.18213939e+00 -1.96785360e-01]\n",
            " [-7.67108202e-01  2.72339885e+00]\n",
            " [-7.67108202e-01 -2.96311118e-01]\n",
            " [-7.67108202e-01 -6.12296608e-01]\n",
            " [ 1.18213939e+00 -8.44232412e-02]\n",
            " [ 2.15676318e+00 -3.30424187e-01]\n",
            " [-7.67108202e-01  2.82204330e-01]\n",
            " [-7.67108202e-01 -9.13511490e-01]\n",
            " [-7.67108202e-01  3.49551265e-01]\n",
            " [-7.67108202e-01 -5.00286170e-01]\n",
            " [ 1.18213939e+00 -5.82755393e-01]\n",
            " [ 1.18213939e+00  4.57693211e-01]\n",
            " [ 1.18213939e+00 -1.86762448e-01]\n",
            " [-7.67108202e-01 -3.49414968e-01]\n",
            " [-7.67108202e-01 -2.61494687e-01]\n",
            " [ 1.18213939e+00 -6.06847654e-02]\n",
            " [-7.67108202e-01 -2.93497669e-01]\n",
            " [-7.67108202e-01 -5.03978822e-01]\n",
            " [ 1.18213939e+00  8.33286548e-02]\n",
            " [-7.67108202e-01 -2.19820474e-01]\n",
            " [ 2.07515593e-01  9.50398465e-01]\n",
            " [ 2.07515593e-01 -2.86288206e-01]\n",
            " [ 1.18213939e+00 -5.89437335e-01]\n",
            " [-7.67108202e-01 -5.49345687e-01]\n",
            " [-7.67108202e-01  2.61789451e+00]\n",
            " [ 1.18213939e+00 -1.34010280e-01]\n",
            " [-7.67108202e-01  1.85492021e-01]\n",
            " [-7.67108202e-01 -3.31655071e-01]\n",
            " [ 1.18213939e+00 -6.06847654e-02]\n",
            " [-7.67108202e-01 -5.18927373e-02]\n",
            " [-7.67108202e-01 -6.19857752e-01]\n",
            " [-7.67108202e-01 -4.79185303e-01]\n",
            " [ 2.15676318e+00 -3.36754447e-01]\n",
            " [-7.67108202e-01 -3.06861552e-01]\n",
            " [ 2.07515593e-01 -2.27205777e-01]\n",
            " [ 2.07515593e-01 -4.68810709e-01]\n",
            " [ 2.15676318e+00 -3.53810982e-01]\n",
            " [ 2.07515593e-01 -3.33237636e-01]\n",
            " [ 2.07515593e-01 -6.09307318e-01]\n",
            " [ 1.18213939e+00 -5.00286170e-01]\n",
            " [-7.67108202e-01 -6.14055013e-01]\n",
            " [-7.67108202e-01 -5.20859516e-01]\n",
            " [ 2.07515593e-01 -1.67246249e-02]\n",
            " [-7.67108202e-01 -2.90684220e-01]\n",
            " [ 2.15676318e+00 -1.67246249e-02]\n",
            " [ 2.07515593e-01 -3.85110602e-01]\n",
            " [-7.67108202e-01 -4.26433134e-01]\n",
            " [ 2.15676318e+00  5.83592950e-02]\n",
            " [-7.67108202e-01 -2.88046612e-01]\n",
            " [-7.67108202e-01  1.15155796e-01]\n",
            " [ 1.18213939e+00 -1.74277768e-01]\n",
            " [-7.67108202e-01 -2.07335794e-01]\n",
            " [-7.67108202e-01 -5.27365616e-01]\n",
            " [ 1.18213939e+00  1.96587771e+00]\n",
            " [-7.67108202e-01 -3.09850841e-01]\n",
            " [-7.67108202e-01  7.41148197e-01]\n",
            " [ 2.07515593e-01  3.70300452e-01]\n",
            " [ 1.18213939e+00 -5.38795253e-01]\n",
            " [-7.67108202e-01 -4.71096637e-01]\n",
            " [ 2.07515593e-01  1.15155796e-01]\n",
            " [ 2.07515593e-01 -3.07564914e-01]\n",
            " [-7.67108202e-01 -5.03978822e-01]\n",
            " [-7.67108202e-01 -5.21738718e-01]\n",
            " [-7.67108202e-01 -3.11785088e-01]\n",
            " [-7.67108202e-01  2.25425623e+00]\n",
            " [ 1.18213939e+00  3.28624135e-02]\n",
            " [ 2.07515593e-01 -4.49819929e-01]\n",
            " [-7.67108202e-01 -4.65469739e-01]\n",
            " [ 1.18213939e+00  1.59115937e-01]\n",
            " [-7.67108202e-01 -2.07335794e-01]\n",
            " [ 1.18213939e+00 -1.12030209e-01]\n",
            " [-7.67108202e-01  2.59696738e-01]\n",
            " [-7.67108202e-01 -2.37756211e-01]\n",
            " [ 2.07515593e-01  5.83946734e-01]\n",
            " [-7.67108202e-01 -4.23795526e-01]\n",
            " [-7.67108202e-01 -3.08092436e-01]\n",
            " [-7.67108202e-01  1.91752156e+00]\n",
            " [ 2.07515593e-01 -2.70992181e-02]\n",
            " [-7.67108202e-01 -6.19857752e-01]\n",
            " [-7.67108202e-01  2.09564804e+00]\n",
            " [-7.67108202e-01 -4.95714315e-01]\n",
            " [-7.67108202e-01 -4.82702114e-01]\n",
            " [ 2.15676318e+00 -6.18099346e-01]\n",
            " [-7.67108202e-01 -2.36525327e-01]\n",
            " [ 2.07515593e-01 -2.97717843e-01]\n",
            " [ 2.07515593e-01 -4.56326029e-01]\n",
            " [-7.67108202e-01 -9.28635882e-02]\n",
            " [-7.67108202e-01 -3.79132023e-01]\n",
            " [-7.67108202e-01 -3.03344741e-01]\n",
            " [-7.67108202e-01 -4.85691403e-01]\n",
            " [ 1.18213939e+00 -5.54445063e-01]\n",
            " [-7.67108202e-01  1.29223041e-01]\n",
            " [-7.67108202e-01 -4.82702114e-01]\n",
            " [ 1.18213939e+00 -3.85462283e-01]\n",
            " [ 2.07515593e-01 -7.64047013e-01]\n",
            " [-7.67108202e-01 -3.97067760e-01]\n",
            " [-7.67108202e-01 -2.87870771e-01]\n",
            " [-7.67108202e-01 -8.21371036e-01]\n",
            " [-7.67108202e-01  3.20361732e-01]\n",
            " [ 1.18213939e+00  1.99067123e+00]\n",
            " [-7.67108202e-01 -4.31004989e-01]\n",
            " [-7.67108202e-01 -2.49361688e-01]\n",
            " [-7.67108202e-01 -6.06847654e-02]\n",
            " [-7.67108202e-01 -3.80362907e-01]\n",
            " [ 2.07515593e-01 -5.56906831e-01]\n",
            " [ 2.07515593e-01 -1.14843658e-01]\n",
            " [-7.67108202e-01 -2.63604774e-01]\n",
            " [ 2.07515593e-01 -3.42205505e-01]\n",
            " [-7.67108202e-01 -3.14952321e-02]\n",
            " [ 1.18213939e+00 -5.00286170e-01]\n",
            " [ 1.18213939e+00  6.99473983e-01]\n",
            " [-7.67108202e-01 -2.46899920e-01]\n",
            " [ 1.18213939e+00 -3.53810982e-01]\n",
            " [-7.67108202e-01 -4.41731263e-01]\n",
            " [-7.67108202e-01 -6.18451027e-01]\n",
            " [ 2.07515593e-01  4.80904165e-01]\n",
            " [-7.67108202e-01 -6.23374563e-01]\n",
            " [ 2.07515593e-01  3.34956499e-01]\n",
            " [ 2.15676318e+00  6.29311496e-02]\n",
            " [-7.67108202e-01  6.71867015e-01]\n",
            " [-7.67108202e-01 -2.60263803e-01]\n",
            " [-7.67108202e-01 -2.03467302e-01]\n",
            " [-7.67108202e-01  2.51254288e-02]\n",
            " [-7.67108202e-01 -7.91480244e-02]\n",
            " [ 1.18213939e+00 -3.48184084e-01]\n",
            " [ 2.07515593e-01 -1.29614266e-01]\n",
            " [-7.67108202e-01  1.15155796e-01]\n",
            " [-7.67108202e-01 -2.76089454e-01]\n",
            " [ 1.18213939e+00 -3.63833894e-01]\n",
            " [-7.67108202e-01 -1.64782378e-01]\n",
            " [-7.67108202e-01 -3.53810982e-01]\n",
            " [-7.67108202e-01 -6.76126732e-01]\n",
            " [ 2.07515593e-01 -5.85744683e-01]\n",
            " [ 2.07515593e-01 -3.27786579e-01]\n",
            " [ 1.18213939e+00 -7.42244886e-02]\n",
            " [-7.67108202e-01  2.52663116e-01]\n",
            " [-7.67108202e-01 -2.65890701e-01]\n",
            " [-7.67108202e-01  6.38103524e-02]\n",
            " [ 1.18213939e+00  7.04922937e-02]\n",
            " [ 2.07515593e-01 -2.95080234e-01]\n",
            " [-7.67108202e-01  5.25391827e-01]\n",
            " [ 2.07515593e-01 -6.69444790e-01]\n",
            " [-7.67108202e-01 -3.02465538e-01]\n",
            " [ 2.15676318e+00 -2.36525327e-01]\n",
            " [-7.67108202e-01  8.36803359e-02]\n",
            " [-7.67108202e-01  1.01973261e+01]\n",
            " [-7.67108202e-01 -2.40921341e-01]\n",
            " [ 2.07515593e-01 -2.38635414e-01]\n",
            " [ 2.07515593e-01 -2.59912122e-01]\n",
            " [ 1.18213939e+00  1.59115937e-01]\n",
            " [ 1.18213939e+00 -6.97579280e-01]\n",
            " [ 2.07515593e-01  5.69264258e+00]\n",
            " [ 1.18213939e+00 -4.19927033e-01]\n",
            " [-7.67108202e-01 -6.06847654e-02]\n",
            " [-7.67108202e-01 -3.48008243e-01]\n",
            " [-7.67108202e-01 -5.00286170e-01]\n",
            " [-7.67108202e-01  3.26164471e-01]\n",
            " [-7.67108202e-01 -5.59192758e-01]\n",
            " [ 1.18213939e+00 -2.61318846e-01]\n",
            " [-7.67108202e-01 -5.17870226e-01]\n",
            " [ 1.18213939e+00 -4.31884191e-01]\n",
            " [-7.67108202e-01 -5.00462010e-01]\n",
            " [-7.67108202e-01 -2.18941271e-01]\n",
            " [-7.67108202e-01 -3.84407240e-01]\n",
            " [ 1.18213939e+00  6.07333529e-01]\n",
            " [ 1.18213939e+00 -1.28207541e-01]\n",
            " [ 1.18213939e+00  2.10109700e-01]\n",
            " [-7.67108202e-01 -4.61952927e-01]\n",
            " [-7.67108202e-01 -6.86325484e-01]\n",
            " [-7.67108202e-01 -5.20859516e-01]\n",
            " [ 2.15676318e+00 -1.15019499e-01]\n",
            " [-7.67108202e-01 -1.16953745e-01]\n",
            " [ 2.15676318e+00  6.09355906e+00]\n",
            " [-7.67108202e-01 -6.46585517e-01]\n",
            " [ 2.15676318e+00  8.42959882e-01]\n",
            " [-7.67108202e-01 -2.56395311e-01]\n",
            " [-7.67108202e-01  1.02003133e+00]\n",
            " [ 2.15676318e+00 -1.63375653e-01]\n",
            " [-7.67108202e-01 -6.01218652e-01]\n",
            " [-7.67108202e-01 -4.86746447e-01]\n",
            " [-7.67108202e-01 -6.02977058e-01]\n",
            " [-7.67108202e-01 -6.30584026e-01]\n",
            " [ 2.15676318e+00  4.21118374e-01]\n",
            " [-7.67108202e-01  3.49551265e-01]\n",
            " [-7.67108202e-01  3.91926737e-02]\n",
            " [-7.67108202e-01 -3.24445608e-01]\n",
            " [ 2.07515593e-01 -5.01692894e-01]\n",
            " [ 2.07515593e-01 -2.80485468e-01]\n",
            " [-7.67108202e-01 -5.00286170e-01]\n",
            " [-7.67108202e-01 -1.54407785e-01]\n",
            " [-7.67108202e-01  1.64918675e-01]\n",
            " [ 1.18213939e+00 -3.06685711e-01]\n",
            " [ 2.07515593e-01  5.19589089e-01]\n",
            " [ 2.07515593e-01 -5.95591754e-01]\n",
            " [-7.67108202e-01 -3.75791052e-01]\n",
            " [-7.67108202e-01 -6.21440317e-01]\n",
            " [ 2.07515593e-01  1.31808108e+00]\n",
            " [ 1.18213939e+00 -2.81542614e-02]\n",
            " [-7.67108202e-01  5.25391827e-01]\n",
            " [ 2.15676318e+00  1.86547065e-01]]\n"
          ]
        }
      ]
    },
    {
      "cell_type": "markdown",
      "source": [
        "TRAINING"
      ],
      "metadata": {
        "id": "7OzDt85WZHqG"
      }
    },
    {
      "cell_type": "code",
      "source": [
        "from sklearn.linear_model import LogisticRegression\n",
        "model = LogisticRegression() # Loading the algorithm\n",
        "model.fit(X_train, y_train)"
      ],
      "metadata": {
        "colab": {
          "base_uri": "https://localhost:8080/"
        },
        "id": "eMZRBJ9DBV9Q",
        "outputId": "e57ad356-9a84-4082-c098-3b102c672d77"
      },
      "execution_count": null,
      "outputs": [
        {
          "output_type": "execute_result",
          "data": {
            "text/plain": [
              "LogisticRegression()"
            ]
          },
          "metadata": {},
          "execution_count": 9
        }
      ]
    },
    {
      "cell_type": "code",
      "source": [
        "Dependents = int(input(\"Enter No. of Dependents: \"))\n",
        "inc= int(input(\"Enter Applicant's Income: \"))\n",
        "newCust= [[Dependents, inc]]\n",
        "result=model.predict(sc.transform(newCust))\n",
        "print(result)\n",
        "if result== 'Y':\n",
        "  print (\"Customer will get the loan\")\n",
        "else:\n",
        "  print(\"Customer will not get the loan\")    "
      ],
      "metadata": {
        "colab": {
          "base_uri": "https://localhost:8080/"
        },
        "id": "dlx1rXr1bfWj",
        "outputId": "f488ae3f-f187-43ca-a1bb-9031a17c98ff"
      },
      "execution_count": null,
      "outputs": [
        {
          "output_type": "stream",
          "name": "stdout",
          "text": [
            "Enter No. of Dependents: 1\n",
            "Enter Applicant's Income: 4583\n",
            "['Y']\n",
            "Customer will get the loan\n"
          ]
        }
      ]
    },
    {
      "cell_type": "markdown",
      "source": [
        "Evaluating the model\n",
        "Predict for all test data"
      ],
      "metadata": {
        "id": "yvLNTFONa2OE"
      }
    },
    {
      "cell_type": "code",
      "source": [
        "y_pred = model.predict(X_test)"
      ],
      "metadata": {
        "id": "GOKfBGeyZalz"
      },
      "execution_count": null,
      "outputs": []
    },
    {
      "cell_type": "code",
      "source": [
        "from sklearn.metrics import accuracy_score\n",
        "print(\"Accuracy of the model: {0}%\". format(accuracy_score(y_test, y_pred)*100))"
      ],
      "metadata": {
        "colab": {
          "base_uri": "https://localhost:8080/"
        },
        "id": "47Q6ax7ea-HV",
        "outputId": "5444d4bb-8c71-4165-de29-fc702484ce3f"
      },
      "execution_count": null,
      "outputs": [
        {
          "output_type": "stream",
          "name": "stdout",
          "text": [
            "Accuracy of the model: 68.88888888888889%\n"
          ]
        }
      ]
    },
    {
      "cell_type": "code",
      "source": [],
      "metadata": {
        "id": "Gav-67ICbRwv"
      },
      "execution_count": null,
      "outputs": []
    }
  ]
}